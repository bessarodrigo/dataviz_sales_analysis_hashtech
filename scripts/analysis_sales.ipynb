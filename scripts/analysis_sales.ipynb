{
 "cells": [
  {
   "cell_type": "markdown",
   "id": "5c0cbea4",
   "metadata": {},
   "source": [
    "# Importação das Bibliotecas"
   ]
  },
  {
   "cell_type": "code",
   "execution_count": 1,
   "id": "6b7c01ea",
   "metadata": {},
   "outputs": [],
   "source": [
    "import pandas as pd\n",
    "import matplotlib.pyplot as plt\n",
    "from cycler import cycler\n",
    "import os\n",
    "from pathlib import Path"
   ]
  },
  {
   "cell_type": "markdown",
   "id": "2d41fc14",
   "metadata": {},
   "source": [
    "# Leitura do CSV"
   ]
  },
  {
   "cell_type": "code",
   "execution_count": 2,
   "id": "d516fba2",
   "metadata": {},
   "outputs": [
    {
     "data": {
      "text/html": [
       "<div>\n",
       "<style scoped>\n",
       "    .dataframe tbody tr th:only-of-type {\n",
       "        vertical-align: middle;\n",
       "    }\n",
       "\n",
       "    .dataframe tbody tr th {\n",
       "        vertical-align: top;\n",
       "    }\n",
       "\n",
       "    .dataframe thead th {\n",
       "        text-align: right;\n",
       "    }\n",
       "</style>\n",
       "<table border=\"1\" class=\"dataframe\">\n",
       "  <thead>\n",
       "    <tr style=\"text-align: right;\">\n",
       "      <th></th>\n",
       "      <th>data</th>\n",
       "      <th>produto</th>\n",
       "      <th>regiao</th>\n",
       "      <th>quantidade</th>\n",
       "      <th>preco_unitario</th>\n",
       "      <th>faturamento</th>\n",
       "    </tr>\n",
       "  </thead>\n",
       "  <tbody>\n",
       "    <tr>\n",
       "      <th>0</th>\n",
       "      <td>2024-01-01</td>\n",
       "      <td>Mouse</td>\n",
       "      <td>Nordeste</td>\n",
       "      <td>4</td>\n",
       "      <td>127.11</td>\n",
       "      <td>508.43</td>\n",
       "    </tr>\n",
       "    <tr>\n",
       "      <th>1</th>\n",
       "      <td>2024-01-01</td>\n",
       "      <td>SSD</td>\n",
       "      <td>Norte</td>\n",
       "      <td>4</td>\n",
       "      <td>504.74</td>\n",
       "      <td>2018.95</td>\n",
       "    </tr>\n",
       "    <tr>\n",
       "      <th>2</th>\n",
       "      <td>2024-01-01</td>\n",
       "      <td>SSD</td>\n",
       "      <td>Norte</td>\n",
       "      <td>4</td>\n",
       "      <td>381.00</td>\n",
       "      <td>1524.01</td>\n",
       "    </tr>\n",
       "    <tr>\n",
       "      <th>3</th>\n",
       "      <td>2024-01-01</td>\n",
       "      <td>Mouse</td>\n",
       "      <td>Nordeste</td>\n",
       "      <td>6</td>\n",
       "      <td>111.57</td>\n",
       "      <td>669.39</td>\n",
       "    </tr>\n",
       "    <tr>\n",
       "      <th>4</th>\n",
       "      <td>2024-01-01</td>\n",
       "      <td>Mouse</td>\n",
       "      <td>Sudeste</td>\n",
       "      <td>6</td>\n",
       "      <td>117.90</td>\n",
       "      <td>707.38</td>\n",
       "    </tr>\n",
       "  </tbody>\n",
       "</table>\n",
       "</div>"
      ],
      "text/plain": [
       "         data produto    regiao  quantidade  preco_unitario  faturamento\n",
       "0  2024-01-01   Mouse  Nordeste           4          127.11       508.43\n",
       "1  2024-01-01     SSD     Norte           4          504.74      2018.95\n",
       "2  2024-01-01     SSD     Norte           4          381.00      1524.01\n",
       "3  2024-01-01   Mouse  Nordeste           6          111.57       669.39\n",
       "4  2024-01-01   Mouse   Sudeste           6          117.90       707.38"
      ]
     },
     "execution_count": 2,
     "metadata": {},
     "output_type": "execute_result"
    }
   ],
   "source": [
    "DADOS = r\"..\\dados\\vendas_hashtech.csv\"\n",
    "\n",
    "df_vendas = pd.read_csv(DADOS)\n",
    "\n",
    "df_vendas.head()"
   ]
  },
  {
   "cell_type": "markdown",
   "id": "b7e18ffd",
   "metadata": {},
   "source": [
    "# Verificação dos Dados"
   ]
  },
  {
   "cell_type": "code",
   "execution_count": 3,
   "id": "280f8866",
   "metadata": {
    "scrolled": true
   },
   "outputs": [
    {
     "name": "stdout",
     "output_type": "stream",
     "text": [
      "<class 'pandas.core.frame.DataFrame'>\n",
      "RangeIndex: 3385 entries, 0 to 3384\n",
      "Data columns (total 6 columns):\n",
      " #   Column          Non-Null Count  Dtype  \n",
      "---  ------          --------------  -----  \n",
      " 0   data            3385 non-null   object \n",
      " 1   produto         3385 non-null   object \n",
      " 2   regiao          3385 non-null   object \n",
      " 3   quantidade      3385 non-null   int64  \n",
      " 4   preco_unitario  3385 non-null   float64\n",
      " 5   faturamento     3385 non-null   float64\n",
      "dtypes: float64(2), int64(1), object(3)\n",
      "memory usage: 158.8+ KB\n"
     ]
    }
   ],
   "source": [
    "# Tipos dos dados\n",
    "df_vendas.info()"
   ]
  },
  {
   "cell_type": "code",
   "execution_count": 4,
   "id": "305e94cf",
   "metadata": {},
   "outputs": [
    {
     "name": "stdout",
     "output_type": "stream",
     "text": [
      "<class 'pandas.core.frame.DataFrame'>\n",
      "RangeIndex: 3385 entries, 0 to 3384\n",
      "Data columns (total 6 columns):\n",
      " #   Column          Non-Null Count  Dtype         \n",
      "---  ------          --------------  -----         \n",
      " 0   data            3385 non-null   datetime64[ns]\n",
      " 1   produto         3385 non-null   object        \n",
      " 2   regiao          3385 non-null   object        \n",
      " 3   quantidade      3385 non-null   int64         \n",
      " 4   preco_unitario  3385 non-null   float64       \n",
      " 5   faturamento     3385 non-null   float64       \n",
      "dtypes: datetime64[ns](1), float64(2), int64(1), object(2)\n",
      "memory usage: 158.8+ KB\n"
     ]
    }
   ],
   "source": [
    "# Conversão da coluna de data para datetime\n",
    "df_vendas['data'] = pd.to_datetime(df_vendas['data'])\n",
    "\n",
    "# Nova verificação dos tipos dos dados para verificar a coluna de data\n",
    "df_vendas.info()"
   ]
  },
  {
   "cell_type": "code",
   "execution_count": 5,
   "id": "11383286",
   "metadata": {},
   "outputs": [
    {
     "name": "stdout",
     "output_type": "stream",
     "text": [
      "Index(['quantidade', 'preco_unitario', 'faturamento'], dtype='object')\n",
      "Index(['data', 'produto', 'regiao'], dtype='object')\n"
     ]
    }
   ],
   "source": [
    "# Definição das colunas numéricas e categóricas\n",
    "colunas_numericas = df_vendas.select_dtypes(include='number').columns\n",
    "colunas_categoricas = df_vendas.select_dtypes(exclude='number').columns\n",
    "\n",
    "print(colunas_numericas)\n",
    "print(colunas_categoricas) "
   ]
  },
  {
   "cell_type": "code",
   "execution_count": 6,
   "id": "29a119ab",
   "metadata": {},
   "outputs": [
    {
     "name": "stdout",
     "output_type": "stream",
     "text": [
      "Index(['produto', 'regiao'], dtype='object')\n"
     ]
    }
   ],
   "source": [
    "# Exclusão da coluna 'data' das colunas categóricas\n",
    "colunas_categoricas = colunas_categoricas.drop('data')\n",
    "print(colunas_categoricas)"
   ]
  },
  {
   "cell_type": "code",
   "execution_count": 7,
   "id": "151d62e2",
   "metadata": {},
   "outputs": [
    {
     "data": {
      "text/html": [
       "<div>\n",
       "<style scoped>\n",
       "    .dataframe tbody tr th:only-of-type {\n",
       "        vertical-align: middle;\n",
       "    }\n",
       "\n",
       "    .dataframe tbody tr th {\n",
       "        vertical-align: top;\n",
       "    }\n",
       "\n",
       "    .dataframe thead th {\n",
       "        text-align: right;\n",
       "    }\n",
       "</style>\n",
       "<table border=\"1\" class=\"dataframe\">\n",
       "  <thead>\n",
       "    <tr style=\"text-align: right;\">\n",
       "      <th></th>\n",
       "      <th>quantidade</th>\n",
       "      <th>preco_unitario</th>\n",
       "      <th>faturamento</th>\n",
       "    </tr>\n",
       "  </thead>\n",
       "  <tbody>\n",
       "    <tr>\n",
       "      <th>count</th>\n",
       "      <td>3385.000000</td>\n",
       "      <td>3385.000000</td>\n",
       "      <td>3385.000000</td>\n",
       "    </tr>\n",
       "    <tr>\n",
       "      <th>mean</th>\n",
       "      <td>4.514032</td>\n",
       "      <td>743.294780</td>\n",
       "      <td>2873.747247</td>\n",
       "    </tr>\n",
       "    <tr>\n",
       "      <th>std</th>\n",
       "      <td>2.423388</td>\n",
       "      <td>713.555738</td>\n",
       "      <td>3177.546138</td>\n",
       "    </tr>\n",
       "    <tr>\n",
       "      <th>min</th>\n",
       "      <td>1.000000</td>\n",
       "      <td>61.160000</td>\n",
       "      <td>91.980000</td>\n",
       "    </tr>\n",
       "    <tr>\n",
       "      <th>25%</th>\n",
       "      <td>3.000000</td>\n",
       "      <td>138.280000</td>\n",
       "      <td>773.110000</td>\n",
       "    </tr>\n",
       "    <tr>\n",
       "      <th>50%</th>\n",
       "      <td>4.000000</td>\n",
       "      <td>458.020000</td>\n",
       "      <td>1747.800000</td>\n",
       "    </tr>\n",
       "    <tr>\n",
       "      <th>75%</th>\n",
       "      <td>6.000000</td>\n",
       "      <td>1667.230000</td>\n",
       "      <td>3534.040000</td>\n",
       "    </tr>\n",
       "    <tr>\n",
       "      <th>max</th>\n",
       "      <td>16.000000</td>\n",
       "      <td>2434.640000</td>\n",
       "      <td>20127.670000</td>\n",
       "    </tr>\n",
       "  </tbody>\n",
       "</table>\n",
       "</div>"
      ],
      "text/plain": [
       "        quantidade  preco_unitario   faturamento\n",
       "count  3385.000000     3385.000000   3385.000000\n",
       "mean      4.514032      743.294780   2873.747247\n",
       "std       2.423388      713.555738   3177.546138\n",
       "min       1.000000       61.160000     91.980000\n",
       "25%       3.000000      138.280000    773.110000\n",
       "50%       4.000000      458.020000   1747.800000\n",
       "75%       6.000000     1667.230000   3534.040000\n",
       "max      16.000000     2434.640000  20127.670000"
      ]
     },
     "execution_count": 7,
     "metadata": {},
     "output_type": "execute_result"
    }
   ],
   "source": [
    "# Verificação de valores estatísticos\n",
    "df_vendas_num = df_vendas.select_dtypes(include='number').drop(columns=['data'], errors='ignore')\n",
    "df_vendas_num.describe()"
   ]
  },
  {
   "cell_type": "code",
   "execution_count": 8,
   "id": "c11b6b79",
   "metadata": {},
   "outputs": [
    {
     "data": {
      "text/html": [
       "<div>\n",
       "<style scoped>\n",
       "    .dataframe tbody tr th:only-of-type {\n",
       "        vertical-align: middle;\n",
       "    }\n",
       "\n",
       "    .dataframe tbody tr th {\n",
       "        vertical-align: top;\n",
       "    }\n",
       "\n",
       "    .dataframe thead th {\n",
       "        text-align: right;\n",
       "    }\n",
       "</style>\n",
       "<table border=\"1\" class=\"dataframe\">\n",
       "  <thead>\n",
       "    <tr style=\"text-align: right;\">\n",
       "      <th></th>\n",
       "      <th>produto</th>\n",
       "      <th>regiao</th>\n",
       "    </tr>\n",
       "  </thead>\n",
       "  <tbody>\n",
       "    <tr>\n",
       "      <th>count</th>\n",
       "      <td>3385</td>\n",
       "      <td>3385</td>\n",
       "    </tr>\n",
       "    <tr>\n",
       "      <th>unique</th>\n",
       "      <td>3</td>\n",
       "      <td>5</td>\n",
       "    </tr>\n",
       "    <tr>\n",
       "      <th>top</th>\n",
       "      <td>SSD</td>\n",
       "      <td>Nordeste</td>\n",
       "    </tr>\n",
       "    <tr>\n",
       "      <th>freq</th>\n",
       "      <td>1374</td>\n",
       "      <td>727</td>\n",
       "    </tr>\n",
       "  </tbody>\n",
       "</table>\n",
       "</div>"
      ],
      "text/plain": [
       "       produto    regiao\n",
       "count     3385      3385\n",
       "unique       3         5\n",
       "top        SSD  Nordeste\n",
       "freq      1374       727"
      ]
     },
     "execution_count": 8,
     "metadata": {},
     "output_type": "execute_result"
    }
   ],
   "source": [
    "# Verificação de valores estatísticos das colunas qualitativas\n",
    "df_vendas_cat = df_vendas.drop(columns=['data'])\n",
    "df_vendas_cat.describe(exclude='number')"
   ]
  },
  {
   "cell_type": "markdown",
   "id": "31c36c6f",
   "metadata": {},
   "source": [
    "# Construção dos Gráficos"
   ]
  },
  {
   "cell_type": "markdown",
   "id": "a4b2eaf5",
   "metadata": {},
   "source": [
    "## Calculando o Faturamento Mensal"
   ]
  },
  {
   "cell_type": "code",
   "execution_count": 9,
   "id": "d75fa55e",
   "metadata": {},
   "outputs": [
    {
     "data": {
      "text/html": [
       "<div>\n",
       "<style scoped>\n",
       "    .dataframe tbody tr th:only-of-type {\n",
       "        vertical-align: middle;\n",
       "    }\n",
       "\n",
       "    .dataframe tbody tr th {\n",
       "        vertical-align: top;\n",
       "    }\n",
       "\n",
       "    .dataframe thead th {\n",
       "        text-align: right;\n",
       "    }\n",
       "</style>\n",
       "<table border=\"1\" class=\"dataframe\">\n",
       "  <thead>\n",
       "    <tr style=\"text-align: right;\">\n",
       "      <th></th>\n",
       "      <th>data</th>\n",
       "      <th>faturamento</th>\n",
       "    </tr>\n",
       "  </thead>\n",
       "  <tbody>\n",
       "    <tr>\n",
       "      <th>0</th>\n",
       "      <td>2024-01</td>\n",
       "      <td>886562.25</td>\n",
       "    </tr>\n",
       "    <tr>\n",
       "      <th>1</th>\n",
       "      <td>2024-02</td>\n",
       "      <td>918955.04</td>\n",
       "    </tr>\n",
       "    <tr>\n",
       "      <th>2</th>\n",
       "      <td>2024-03</td>\n",
       "      <td>918785.07</td>\n",
       "    </tr>\n",
       "    <tr>\n",
       "      <th>3</th>\n",
       "      <td>2024-04</td>\n",
       "      <td>1033518.28</td>\n",
       "    </tr>\n",
       "    <tr>\n",
       "      <th>4</th>\n",
       "      <td>2024-05</td>\n",
       "      <td>922954.53</td>\n",
       "    </tr>\n",
       "  </tbody>\n",
       "</table>\n",
       "</div>"
      ],
      "text/plain": [
       "      data  faturamento\n",
       "0  2024-01    886562.25\n",
       "1  2024-02    918955.04\n",
       "2  2024-03    918785.07\n",
       "3  2024-04   1033518.28\n",
       "4  2024-05    922954.53"
      ]
     },
     "execution_count": 9,
     "metadata": {},
     "output_type": "execute_result"
    }
   ],
   "source": [
    "df_vendas_mensais = (\n",
    "    df_vendas\n",
    "    .groupby(df_vendas['data'].dt.to_period('M'))['faturamento']\n",
    "    .sum()\n",
    "    .reset_index()\n",
    ")\n",
    "\n",
    "df_vendas_mensais.head()"
   ]
  },
  {
   "cell_type": "code",
   "execution_count": 10,
   "id": "fb706e46",
   "metadata": {},
   "outputs": [
    {
     "name": "stdout",
     "output_type": "stream",
     "text": [
      "<class 'pandas.core.frame.DataFrame'>\n",
      "RangeIndex: 12 entries, 0 to 11\n",
      "Data columns (total 2 columns):\n",
      " #   Column       Non-Null Count  Dtype    \n",
      "---  ------       --------------  -----    \n",
      " 0   data         12 non-null     period[M]\n",
      " 1   faturamento  12 non-null     float64  \n",
      "dtypes: float64(1), period[M](1)\n",
      "memory usage: 324.0 bytes\n"
     ]
    }
   ],
   "source": [
    "df_vendas_mensais.info()"
   ]
  },
  {
   "cell_type": "code",
   "execution_count": 42,
   "id": "18faa7f4",
   "metadata": {},
   "outputs": [
    {
     "data": {
      "image/png": "[encoded data removed]",
      "text/plain": [
       "<Figure size 1000x400 with 1 Axes>"
      ]
     },
     "metadata": {},
     "output_type": "display_data"
    }
   ],
   "source": [
    "# dados\n",
    "x = df_vendas_mensais[\"data\"].astype(str)\n",
    "y = df_vendas_mensais[\"faturamento\"]\n",
    "\n",
    "# cores\n",
    "cores = plt.get_cmap('Pastel1').colors\n",
    "ciclo_cores = cycler('color', cores)\n",
    "plt.rc('axes', prop_cycle=ciclo_cores)\n",
    "\n",
    "# Criar o gráfico\n",
    "fig, ax = plt.subplots(figsize=(10, 4))\n",
    "\n",
    "# Adicionar linha\n",
    "ax.plot(x, y, marker='o', linestyle='-', color='skyblue', linewidth=2, markersize=6, label=\"Venda Total\")\n",
    "\n",
    "# Título\n",
    "ax.set_title(\"Total de Vendas por Mês\", fontsize=14, fontweight='bold', color='gray', pad=25)\n",
    "\n",
    "# Rotacionar os rótulos do eixo X para melhor visualização\n",
    "plt.xticks(rotation=45, ha='right')\n",
    "\n",
    "# Adicionar valores no gráfico\n",
    "def formatar_valor(v):\n",
    "    if v >= 1_000_000:\n",
    "        return f'{v/1_000_000:.2f}M'\n",
    "    elif v >= 1_000:\n",
    "        return f'{v/1_000:.2f}K'\n",
    "    else:\n",
    "        return str(int(v))\n",
    "\n",
    "for i, valor in enumerate(y):\n",
    "    ax.annotate(formatar_valor(valor), (x[i], y[i]), textcoords=\"offset points\", xytext=(0, 8),\n",
    "                ha='center', fontsize=9, color='gray', fontweight='bold')\n",
    "\n",
    "# Tirar as bordas dos eixos\n",
    "ax.spines['top'].set_visible(False)\n",
    "ax.spines['bottom'].set_visible(False)\n",
    "ax.spines['right'].set_visible(False)\n",
    "ax.spines['left'].set_visible(False)\n",
    "\n",
    "# Remover o eixo Y\n",
    "ax.set_yticks([])\n",
    "\n",
    "# Remover os tracinhos do eixo X\n",
    "ax.tick_params(axis=\"x\", length=0) \n",
    "\n",
    "# Ajustar layout\n",
    "plt.tight_layout()\n",
    "\n",
    "# salvando a figura\n",
    "plt.savefig('../plots/plots_python/faturamento_mensal.png', dpi=300, bbox_inches='tight')\n",
    "\n",
    "# Exibir o gráfico\n",
    "plt.show()"
   ]
  },
  {
   "cell_type": "markdown",
   "id": "14c102d0-1315-4c04-ab77-46a52903e4b7",
   "metadata": {},
   "source": [
    "## Calculando o Faturamento Mensal por Produto"
   ]
  },
  {
   "cell_type": "code",
   "execution_count": 15,
   "id": "f05da8ab-c97a-4e62-b669-b7826dac8f81",
   "metadata": {},
   "outputs": [
    {
     "data": {
      "text/html": [
       "<div>\n",
       "<style scoped>\n",
       "    .dataframe tbody tr th:only-of-type {\n",
       "        vertical-align: middle;\n",
       "    }\n",
       "\n",
       "    .dataframe tbody tr th {\n",
       "        vertical-align: top;\n",
       "    }\n",
       "\n",
       "    .dataframe thead th {\n",
       "        text-align: right;\n",
       "    }\n",
       "</style>\n",
       "<table border=\"1\" class=\"dataframe\">\n",
       "  <thead>\n",
       "    <tr style=\"text-align: right;\">\n",
       "      <th></th>\n",
       "      <th>data</th>\n",
       "      <th>produto</th>\n",
       "      <th>faturamento</th>\n",
       "    </tr>\n",
       "  </thead>\n",
       "  <tbody>\n",
       "    <tr>\n",
       "      <th>0</th>\n",
       "      <td>2024-01</td>\n",
       "      <td>Mouse</td>\n",
       "      <td>71847.26</td>\n",
       "    </tr>\n",
       "    <tr>\n",
       "      <th>1</th>\n",
       "      <td>2024-01</td>\n",
       "      <td>Placa de Vídeo</td>\n",
       "      <td>533706.43</td>\n",
       "    </tr>\n",
       "    <tr>\n",
       "      <th>2</th>\n",
       "      <td>2024-01</td>\n",
       "      <td>SSD</td>\n",
       "      <td>281008.56</td>\n",
       "    </tr>\n",
       "    <tr>\n",
       "      <th>3</th>\n",
       "      <td>2024-02</td>\n",
       "      <td>Mouse</td>\n",
       "      <td>59108.65</td>\n",
       "    </tr>\n",
       "    <tr>\n",
       "      <th>4</th>\n",
       "      <td>2024-02</td>\n",
       "      <td>Placa de Vídeo</td>\n",
       "      <td>625080.45</td>\n",
       "    </tr>\n",
       "    <tr>\n",
       "      <th>5</th>\n",
       "      <td>2024-02</td>\n",
       "      <td>SSD</td>\n",
       "      <td>234765.94</td>\n",
       "    </tr>\n",
       "    <tr>\n",
       "      <th>6</th>\n",
       "      <td>2024-03</td>\n",
       "      <td>Mouse</td>\n",
       "      <td>72878.35</td>\n",
       "    </tr>\n",
       "    <tr>\n",
       "      <th>7</th>\n",
       "      <td>2024-03</td>\n",
       "      <td>Placa de Vídeo</td>\n",
       "      <td>582711.71</td>\n",
       "    </tr>\n",
       "  </tbody>\n",
       "</table>\n",
       "</div>"
      ],
      "text/plain": [
       "      data         produto  faturamento\n",
       "0  2024-01           Mouse     71847.26\n",
       "1  2024-01  Placa de Vídeo    533706.43\n",
       "2  2024-01             SSD    281008.56\n",
       "3  2024-02           Mouse     59108.65\n",
       "4  2024-02  Placa de Vídeo    625080.45\n",
       "5  2024-02             SSD    234765.94\n",
       "6  2024-03           Mouse     72878.35\n",
       "7  2024-03  Placa de Vídeo    582711.71"
      ]
     },
     "execution_count": 15,
     "metadata": {},
     "output_type": "execute_result"
    }
   ],
   "source": [
    "df_vendas_mensais_produto = (\n",
    "    df_vendas\n",
    "    .groupby([df_vendas['data'].dt.to_period('M'), 'produto'])['faturamento']\n",
    "    .sum()\n",
    "    .reset_index()\n",
    ")\n",
    "\n",
    "df_vendas_mensais_produto.head(8)"
   ]
  },
  {
   "cell_type": "code",
   "execution_count": 19,
   "id": "0d1c7890-ff9e-4a3e-9213-2805cad98b45",
   "metadata": {},
   "outputs": [
    {
     "data": {
      "text/html": [
       "<div>\n",
       "<style scoped>\n",
       "    .dataframe tbody tr th:only-of-type {\n",
       "        vertical-align: middle;\n",
       "    }\n",
       "\n",
       "    .dataframe tbody tr th {\n",
       "        vertical-align: top;\n",
       "    }\n",
       "\n",
       "    .dataframe thead th {\n",
       "        text-align: right;\n",
       "    }\n",
       "</style>\n",
       "<table border=\"1\" class=\"dataframe\">\n",
       "  <thead>\n",
       "    <tr style=\"text-align: right;\">\n",
       "      <th>produto</th>\n",
       "      <th>Mouse</th>\n",
       "      <th>Placa de Vídeo</th>\n",
       "      <th>SSD</th>\n",
       "    </tr>\n",
       "    <tr>\n",
       "      <th>data</th>\n",
       "      <th></th>\n",
       "      <th></th>\n",
       "      <th></th>\n",
       "    </tr>\n",
       "  </thead>\n",
       "  <tbody>\n",
       "    <tr>\n",
       "      <th>2024-01</th>\n",
       "      <td>71847.26</td>\n",
       "      <td>533706.43</td>\n",
       "      <td>281008.56</td>\n",
       "    </tr>\n",
       "    <tr>\n",
       "      <th>2024-02</th>\n",
       "      <td>59108.65</td>\n",
       "      <td>625080.45</td>\n",
       "      <td>234765.94</td>\n",
       "    </tr>\n",
       "    <tr>\n",
       "      <th>2024-03</th>\n",
       "      <td>72878.35</td>\n",
       "      <td>582711.71</td>\n",
       "      <td>263195.01</td>\n",
       "    </tr>\n",
       "    <tr>\n",
       "      <th>2024-04</th>\n",
       "      <td>53946.87</td>\n",
       "      <td>723974.63</td>\n",
       "      <td>255596.78</td>\n",
       "    </tr>\n",
       "    <tr>\n",
       "      <th>2024-05</th>\n",
       "      <td>70184.60</td>\n",
       "      <td>601338.08</td>\n",
       "      <td>251431.85</td>\n",
       "    </tr>\n",
       "  </tbody>\n",
       "</table>\n",
       "</div>"
      ],
      "text/plain": [
       "produto     Mouse  Placa de Vídeo        SSD\n",
       "data                                        \n",
       "2024-01  71847.26       533706.43  281008.56\n",
       "2024-02  59108.65       625080.45  234765.94\n",
       "2024-03  72878.35       582711.71  263195.01\n",
       "2024-04  53946.87       723974.63  255596.78\n",
       "2024-05  70184.60       601338.08  251431.85"
      ]
     },
     "execution_count": 19,
     "metadata": {},
     "output_type": "execute_result"
    }
   ],
   "source": [
    "df_pivot = df_vendas_mensais_produto.pivot(\n",
    "    index='data',       # meses viram índice (linhas)\n",
    "    columns='produto',  # produtos viram colunas\n",
    "    values='faturamento'  # valores nas células\n",
    ").fillna(0)\n",
    "\n",
    "df_pivot.head()"
   ]
  },
  {
   "cell_type": "code",
   "execution_count": 41,
   "id": "b3807ea9-13fa-42ad-8a4a-b1f62f332190",
   "metadata": {},
   "outputs": [
    {
     "data": {
      "image/png": "[encoded data removed]",
      "text/plain": [
       "<Figure size 1000x400 with 1 Axes>"
      ]
     },
     "metadata": {},
     "output_type": "display_data"
    }
   ],
   "source": [
    "# cores\n",
    "cores = plt.get_cmap('Pastel1').colors\n",
    "ciclo_cores = cycler('color', cores)\n",
    "plt.rc('axes', prop_cycle=ciclo_cores)\n",
    "\n",
    "# Criar gráfico\n",
    "ig, ax = plt.subplots(figsize=(10, 4))\n",
    "df_pivot.plot(kind='bar', ax=ax)\n",
    "\n",
    "# Título do gráfico\n",
    "ax.set_title('Faturamento Mensal por Produto', fontsize=14, fontweight='bold', color='gray', pad=25)\n",
    "\n",
    "# Rotacionar os rótulos do eixo X para melhor visualização\n",
    "plt.xticks(rotation=45, ha='right')\n",
    "\n",
    "# Adicionar valores no gráfico\n",
    "def formatar_valor(v):\n",
    "    if v >= 1_000_000:\n",
    "        return f'{v/1_000_000:.2f}M'\n",
    "    elif v >= 1_000:\n",
    "        return f'{v/1_000:.2f}K'\n",
    "    else:\n",
    "        return str(int(v))\n",
    "\n",
    "# Tirar as bordas dos eixos\n",
    "plt.box(False)\n",
    "\n",
    "# Tirar o nome do eixo X\n",
    "ax.set_xlabel('')\n",
    "# Tirar o nome do eixo y\n",
    "ax.set_ylabel('')\n",
    "\n",
    "# Título da leggenda\n",
    "plt.legend(title='Produto')\n",
    "\n",
    "# Remover o eixo x\n",
    "# ax.set_xticks([])\n",
    "\n",
    "# Remover os tracinhos do eixo y\n",
    "ax.tick_params(axis=\"y\", length=0) \n",
    "\n",
    "# Ajustar layout\n",
    "plt.tight_layout()\n",
    "\n",
    "# salvando a figura\n",
    "plt.savefig('../plots/plots_python/faturamento_mensal_produto.png', dpi=300, bbox_inches='tight')\n",
    "\n",
    "# Exibir o gráfico\n",
    "plt.show()"
   ]
  },
  {
   "cell_type": "markdown",
   "id": "462cab13-ecd3-4c14-b906-fed30161a52f",
   "metadata": {},
   "source": [
    "## Calculando o Preço Médio dos Produtos"
   ]
  },
  {
   "cell_type": "code",
   "execution_count": 51,
   "id": "e882c356-00e5-432b-b9b6-f94469d37878",
   "metadata": {},
   "outputs": [
    {
     "data": {
      "text/html": [
       "<div>\n",
       "<style scoped>\n",
       "    .dataframe tbody tr th:only-of-type {\n",
       "        vertical-align: middle;\n",
       "    }\n",
       "\n",
       "    .dataframe tbody tr th {\n",
       "        vertical-align: top;\n",
       "    }\n",
       "\n",
       "    .dataframe thead th {\n",
       "        text-align: right;\n",
       "    }\n",
       "</style>\n",
       "<table border=\"1\" class=\"dataframe\">\n",
       "  <thead>\n",
       "    <tr style=\"text-align: right;\">\n",
       "      <th></th>\n",
       "      <th>data</th>\n",
       "      <th>produto</th>\n",
       "      <th>preco_unitario</th>\n",
       "    </tr>\n",
       "  </thead>\n",
       "  <tbody>\n",
       "    <tr>\n",
       "      <th>0</th>\n",
       "      <td>2024-01</td>\n",
       "      <td>Mouse</td>\n",
       "      <td>118.700392</td>\n",
       "    </tr>\n",
       "    <tr>\n",
       "      <th>1</th>\n",
       "      <td>2024-01</td>\n",
       "      <td>Placa de Vídeo</td>\n",
       "      <td>1803.231714</td>\n",
       "    </tr>\n",
       "    <tr>\n",
       "      <th>2</th>\n",
       "      <td>2024-01</td>\n",
       "      <td>SSD</td>\n",
       "      <td>452.834667</td>\n",
       "    </tr>\n",
       "    <tr>\n",
       "      <th>3</th>\n",
       "      <td>2024-02</td>\n",
       "      <td>Mouse</td>\n",
       "      <td>120.557531</td>\n",
       "    </tr>\n",
       "    <tr>\n",
       "      <th>4</th>\n",
       "      <td>2024-02</td>\n",
       "      <td>Placa de Vídeo</td>\n",
       "      <td>1794.601724</td>\n",
       "    </tr>\n",
       "    <tr>\n",
       "      <th>5</th>\n",
       "      <td>2024-02</td>\n",
       "      <td>SSD</td>\n",
       "      <td>445.991441</td>\n",
       "    </tr>\n",
       "    <tr>\n",
       "      <th>6</th>\n",
       "      <td>2024-03</td>\n",
       "      <td>Mouse</td>\n",
       "      <td>120.986792</td>\n",
       "    </tr>\n",
       "    <tr>\n",
       "      <th>7</th>\n",
       "      <td>2024-03</td>\n",
       "      <td>Placa de Vídeo</td>\n",
       "      <td>1782.252500</td>\n",
       "    </tr>\n",
       "  </tbody>\n",
       "</table>\n",
       "</div>"
      ],
      "text/plain": [
       "      data         produto  preco_unitario\n",
       "0  2024-01           Mouse      118.700392\n",
       "1  2024-01  Placa de Vídeo     1803.231714\n",
       "2  2024-01             SSD      452.834667\n",
       "3  2024-02           Mouse      120.557531\n",
       "4  2024-02  Placa de Vídeo     1794.601724\n",
       "5  2024-02             SSD      445.991441\n",
       "6  2024-03           Mouse      120.986792\n",
       "7  2024-03  Placa de Vídeo     1782.252500"
      ]
     },
     "execution_count": 51,
     "metadata": {},
     "output_type": "execute_result"
    }
   ],
   "source": [
    "df_preco_medio_produto = (\n",
    "    df_vendas\n",
    "    .groupby([df_vendas['data'].dt.to_period('M'), 'produto'])['preco_unitario']\n",
    "    .mean()\n",
    "    .reset_index()\n",
    ")\n",
    "\n",
    "df_preco_medio_produto.head(8)"
   ]
  },
  {
   "cell_type": "code",
   "execution_count": 52,
   "id": "1a20610a-f01d-4674-97ca-61138c2dc975",
   "metadata": {},
   "outputs": [
    {
     "data": {
      "text/html": [
       "<div>\n",
       "<style scoped>\n",
       "    .dataframe tbody tr th:only-of-type {\n",
       "        vertical-align: middle;\n",
       "    }\n",
       "\n",
       "    .dataframe tbody tr th {\n",
       "        vertical-align: top;\n",
       "    }\n",
       "\n",
       "    .dataframe thead th {\n",
       "        text-align: right;\n",
       "    }\n",
       "</style>\n",
       "<table border=\"1\" class=\"dataframe\">\n",
       "  <thead>\n",
       "    <tr style=\"text-align: right;\">\n",
       "      <th>produto</th>\n",
       "      <th>Mouse</th>\n",
       "      <th>Placa de Vídeo</th>\n",
       "      <th>SSD</th>\n",
       "    </tr>\n",
       "    <tr>\n",
       "      <th>data</th>\n",
       "      <th></th>\n",
       "      <th></th>\n",
       "      <th></th>\n",
       "    </tr>\n",
       "  </thead>\n",
       "  <tbody>\n",
       "    <tr>\n",
       "      <th>2024-01</th>\n",
       "      <td>118.700392</td>\n",
       "      <td>1803.231714</td>\n",
       "      <td>452.834667</td>\n",
       "    </tr>\n",
       "    <tr>\n",
       "      <th>2024-02</th>\n",
       "      <td>120.557531</td>\n",
       "      <td>1794.601724</td>\n",
       "      <td>445.991441</td>\n",
       "    </tr>\n",
       "    <tr>\n",
       "      <th>2024-03</th>\n",
       "      <td>120.986792</td>\n",
       "      <td>1782.252500</td>\n",
       "      <td>459.669008</td>\n",
       "    </tr>\n",
       "    <tr>\n",
       "      <th>2024-04</th>\n",
       "      <td>119.807125</td>\n",
       "      <td>1795.046630</td>\n",
       "      <td>444.102719</td>\n",
       "    </tr>\n",
       "    <tr>\n",
       "      <th>2024-05</th>\n",
       "      <td>117.664835</td>\n",
       "      <td>1811.596265</td>\n",
       "      <td>447.516964</td>\n",
       "    </tr>\n",
       "  </tbody>\n",
       "</table>\n",
       "</div>"
      ],
      "text/plain": [
       "produto       Mouse  Placa de Vídeo         SSD\n",
       "data                                           \n",
       "2024-01  118.700392     1803.231714  452.834667\n",
       "2024-02  120.557531     1794.601724  445.991441\n",
       "2024-03  120.986792     1782.252500  459.669008\n",
       "2024-04  119.807125     1795.046630  444.102719\n",
       "2024-05  117.664835     1811.596265  447.516964"
      ]
     },
     "execution_count": 52,
     "metadata": {},
     "output_type": "execute_result"
    }
   ],
   "source": [
    "df_pivot = df_preco_medio_produto.pivot(\n",
    "    index='data',      \n",
    "    columns='produto', \n",
    "    values='preco_unitario' \n",
    ").fillna(0)\n",
    "\n",
    "df_pivot.head()"
   ]
  },
  {
   "cell_type": "code",
   "execution_count": 57,
   "id": "a1d19ead-f98d-4827-9114-f9669e86e75c",
   "metadata": {},
   "outputs": [
    {
     "data": {
      "image/png": "[encoded data removed]",
      "text/plain": [
       "<Figure size 800x400 with 1 Axes>"
      ]
     },
     "metadata": {},
     "output_type": "display_data"
    }
   ],
   "source": [
    "# cores\n",
    "cores = plt.get_cmap('Pastel1').colors\n",
    "ciclo_cores = cycler('color', cores)\n",
    "plt.rc('axes', prop_cycle=ciclo_cores)\n",
    "\n",
    "# Criar o gráfico\n",
    "fig, ax = plt.subplots(figsize=(8, 4))\n",
    "\n",
    "# Plotar gráfico de linhas\n",
    "df_pivot.plot(ax=ax)\n",
    "\n",
    "# Título do gráfico\n",
    "ax.set_title('Preço Médio Mensal por Produto', fontsize=14, fontweight='bold', color='gray', pad=20)\n",
    "\n",
    "# Rotacionar os rótulos do eixo X\n",
    "plt.xticks(rotation=45, ha='right')\n",
    "\n",
    "# Tirar as bordas dos eixos\n",
    "plt.box(False)\n",
    "\n",
    "# Tirar o nome do eixo X\n",
    "ax.set_xlabel('')\n",
    "# Tirar o nome do eixo y\n",
    "ax.set_ylabel('')\n",
    "\n",
    "# Título da leggenda\n",
    "plt.legend(title='Produto')\n",
    "\n",
    "# Remover os tracinhos do eixo y\n",
    "ax.tick_params(axis=\"y\", length=0) \n",
    "\n",
    "# Ajustar layout\n",
    "plt.tight_layout()\n",
    "\n",
    "# Salvar imagem\n",
    "fig.savefig('../plots/plots_python/preco_medio_produtos.png', dpi=300, bbox_inches='tight')\n",
    "\n",
    "# Mostrar gráfico\n",
    "plt.show()"
   ]
  },
  {
   "cell_type": "code",
   "execution_count": null,
   "id": "8a11827d-2988-4576-b13a-7b1f50ebb288",
   "metadata": {},
   "outputs": [],
   "source": []
  },
  {
   "cell_type": "code",
   "execution_count": null,
   "id": "827c67ce-fafb-41e7-9bbf-2cc37f85480b",
   "metadata": {},
   "outputs": [],
   "source": []
  }
 ],
 "metadata": {
  "kernelspec": {
   "display_name": "Python 3 (ipykernel)",
   "language": "python",
   "name": "python3"
  },
  "language_info": {
   "codemirror_mode": {
    "name": "ipython",
    "version": 3
   },
   "file_extension": ".py",
   "mimetype": "text/x-python",
   "name": "python",
   "nbconvert_exporter": "python",
   "pygments_lexer": "ipython3",
   "version": "3.13.0"
  }
 },
 "nbformat": 4,
 "nbformat_minor": 5
}
